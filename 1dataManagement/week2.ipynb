{
 "cells": [
  {
   "cell_type": "code",
   "execution_count": 1,
   "metadata": {
    "collapsed": false
   },
   "outputs": [],
   "source": [
    "import pandas as pd\n",
    "from pandas import Series,DataFrame\n",
    "\n",
    "\"\"\"\n",
    "IMPORTANT NOTE: If parsing Excel files fails, pip install xlrd AND openpyxl\n",
    "\"\"\"\n",
    "\n",
    "# Open the excel file as an object\n",
    "cdc_file = pd.ExcelFile('cdc.xlsx')\n",
    "# Parse the first sheet of the excel file and set as DataFrame\n",
    "fluo14 = cdc_file.parse('2014')\n",
    "fluo14.set_index('State')\n",
    "fluo14['%'] = fluo14['%'].apply(lambda val: val.replace('%', ''))\n",
    "fluo14['%'] = pd.to_numeric(fluo14['%'])  # convert_objects is deprecated\n",
    "fluo14 = fluo14.rename(columns={'%': 'Rate receiving fluoridated water'})\n",
    "\n",
    "\n",
    "# BLS dataset for labor participation\n",
    "bls_file = pd.ExcelFile('staadata.xlsx')\n",
    "# Parse the first sheet of the excel file and set as DataFrame\n",
    "header = ['FIPS Code', 'State and area', 'Year', 'Civilian non-institutional population',\n",
    "           'Civilian labor force Total', 'CLF Percent of population', 'CLF Employment Total',\n",
    "           'CLF Employment Percent of population', 'CLF Unemployment Total',\n",
    "           'CLF Unemployment Rate'\n",
    "          ]\n",
    "bls = bls_file.parse('Sheet1', skiprows=7, names=header)\n",
    "bls14 = bls[bls.Year == 2014]\n",
    "bls14 = bls14[['State and area','CLF Employment Percent of population','CLF Unemployment Rate']]\n",
    "bls14['CLF Employment Percent of population'] = pd.to_numeric(bls14['CLF Employment Percent of population'])\n",
    "bls14['CLF Unemployment Rate'] = pd.to_numeric(bls14['CLF Unemployment Rate'])\n",
    "bls14.set_index('State and area')\n",
    "\n",
    "data = pd.merge(fluo14, bls14, left_on=\"State\", right_on=\"State and area\")"
   ]
  },
  {
   "cell_type": "code",
   "execution_count": 2,
   "metadata": {
    "collapsed": false
   },
   "outputs": [
    {
     "data": {
      "text/html": [
       "<div>\n",
       "<table border=\"1\" class=\"dataframe\">\n",
       "  <thead>\n",
       "    <tr style=\"text-align: right;\">\n",
       "      <th></th>\n",
       "      <th>State</th>\n",
       "      <th>Persons receiving fluoridated water</th>\n",
       "      <th>Persons served by CWS</th>\n",
       "      <th>Rate receiving fluoridated water</th>\n",
       "      <th>Rank</th>\n",
       "      <th>State and area</th>\n",
       "      <th>CLF Employment Percent of population</th>\n",
       "      <th>CLF Unemployment Rate</th>\n",
       "    </tr>\n",
       "  </thead>\n",
       "  <tbody>\n",
       "    <tr>\n",
       "      <th>0</th>\n",
       "      <td>Alabama</td>\n",
       "      <td>3812180</td>\n",
       "      <td>4849377</td>\n",
       "      <td>78.6</td>\n",
       "      <td>23.0</td>\n",
       "      <td>Alabama</td>\n",
       "      <td>53.2</td>\n",
       "      <td>6.8</td>\n",
       "    </tr>\n",
       "    <tr>\n",
       "      <th>1</th>\n",
       "      <td>Alaska</td>\n",
       "      <td>339415</td>\n",
       "      <td>685165</td>\n",
       "      <td>49.5</td>\n",
       "      <td>43.0</td>\n",
       "      <td>Alaska</td>\n",
       "      <td>63.1</td>\n",
       "      <td>6.9</td>\n",
       "    </tr>\n",
       "    <tr>\n",
       "      <th>2</th>\n",
       "      <td>Arizona</td>\n",
       "      <td>3199068</td>\n",
       "      <td>5536324</td>\n",
       "      <td>57.8</td>\n",
       "      <td>38.0</td>\n",
       "      <td>Arizona</td>\n",
       "      <td>55.7</td>\n",
       "      <td>6.8</td>\n",
       "    </tr>\n",
       "    <tr>\n",
       "      <th>3</th>\n",
       "      <td>Arkansas</td>\n",
       "      <td>1986099</td>\n",
       "      <td>2809741</td>\n",
       "      <td>70.7</td>\n",
       "      <td>31.0</td>\n",
       "      <td>Arkansas</td>\n",
       "      <td>53.6</td>\n",
       "      <td>6.1</td>\n",
       "    </tr>\n",
       "    <tr>\n",
       "      <th>4</th>\n",
       "      <td>California</td>\n",
       "      <td>24699693</td>\n",
       "      <td>38802500</td>\n",
       "      <td>63.7</td>\n",
       "      <td>35.0</td>\n",
       "      <td>California</td>\n",
       "      <td>57.7</td>\n",
       "      <td>7.5</td>\n",
       "    </tr>\n",
       "  </tbody>\n",
       "</table>\n",
       "</div>"
      ],
      "text/plain": [
       "        State  Persons receiving fluoridated water  Persons served by CWS  \\\n",
       "0     Alabama                              3812180                4849377   \n",
       "1      Alaska                               339415                 685165   \n",
       "2     Arizona                              3199068                5536324   \n",
       "3    Arkansas                              1986099                2809741   \n",
       "4  California                             24699693               38802500   \n",
       "\n",
       "   Rate receiving fluoridated water  Rank State and area  \\\n",
       "0                              78.6  23.0        Alabama   \n",
       "1                              49.5  43.0         Alaska   \n",
       "2                              57.8  38.0        Arizona   \n",
       "3                              70.7  31.0       Arkansas   \n",
       "4                              63.7  35.0     California   \n",
       "\n",
       "   CLF Employment Percent of population  CLF Unemployment Rate  \n",
       "0                                  53.2                    6.8  \n",
       "1                                  63.1                    6.9  \n",
       "2                                  55.7                    6.8  \n",
       "3                                  53.6                    6.1  \n",
       "4                                  57.7                    7.5  "
      ]
     },
     "execution_count": 2,
     "metadata": {},
     "output_type": "execute_result"
    }
   ],
   "source": [
    "data.head()"
   ]
  },
  {
   "cell_type": "code",
   "execution_count": 3,
   "metadata": {
    "collapsed": false
   },
   "outputs": [],
   "source": [
    "import matplotlib.pyplot as plt\n",
    "\n",
    "plt.hist(data['Rate receiving fluoridated water'])\n",
    "plt.xlabel('Percent of population receiving fluoridated water')\n",
    "plt.ylabel('Number of States')\n",
    "plt.title('Count of States and Flouridated Water')\n",
    "plt.savefig('flouridated_rate_histogram.png', dpi=300, bbox_inches='tight')"
   ]
  },
  {
   "cell_type": "code",
   "execution_count": 4,
   "metadata": {
    "collapsed": false
   },
   "outputs": [],
   "source": [
    "plt.gcf().clear()\n",
    "plt.hist(data['CLF Employment Percent of population'])\n",
    "plt.xlabel('Percent of population employed')\n",
    "plt.ylabel('Number of States')\n",
    "plt.title('Civilian Labor Force Participation Percentage')\n",
    "plt.savefig('participation_rate_histogram.png', dpi=300, bbox_inches='tight')"
   ]
  },
  {
   "cell_type": "code",
   "execution_count": 5,
   "metadata": {
    "collapsed": false
   },
   "outputs": [],
   "source": [
    "# Assignment requires 3 variables instead of 2\n",
    "plt.gcf().clear()\n",
    "plt.hist(data['CLF Unemployment Rate'])\n",
    "plt.xlabel('Unemployment Rate')\n",
    "plt.ylabel('Number of States')\n",
    "plt.title('Civilian Labor Force Unemployment Histogram')\n",
    "plt.savefig('unemployment_rate_histogram.png', dpi=300, bbox_inches='tight')"
   ]
  },
  {
   "cell_type": "code",
   "execution_count": 6,
   "metadata": {
    "collapsed": false
   },
   "outputs": [],
   "source": [
    "# Bonus, going fancy here even though a Scatterplot would be easiear to understand \n",
    "import seaborn as sns\n",
    "fluoridation = data['Rate receiving fluoridated water']\n",
    "labor_participation = data['CLF Employment Percent of population']\n",
    "unemployment = data['CLF Unemployment Rate']\n",
    "sns_plot = sns.jointplot(fluoridation, labor_participation, kind=\"reg\")\n",
    "sns_plot.savefig(\"seaborn_jointplot.png\")"
   ]
  },
  {
   "cell_type": "code",
   "execution_count": null,
   "metadata": {
    "collapsed": true
   },
   "outputs": [],
   "source": []
  }
 ],
 "metadata": {
  "kernelspec": {
   "display_name": "Python 3",
   "language": "python",
   "name": "python3"
  },
  "language_info": {
   "codemirror_mode": {
    "name": "ipython",
    "version": 3
   },
   "file_extension": ".py",
   "mimetype": "text/x-python",
   "name": "python",
   "nbconvert_exporter": "python",
   "pygments_lexer": "ipython3",
   "version": "3.5.1"
  }
 },
 "nbformat": 4,
 "nbformat_minor": 0
}
