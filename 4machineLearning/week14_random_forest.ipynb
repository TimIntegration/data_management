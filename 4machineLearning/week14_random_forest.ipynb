{
 "cells": [
  {
   "cell_type": "code",
   "execution_count": 1,
   "metadata": {
    "collapsed": false
   },
   "outputs": [
    {
     "name": "stderr",
     "output_type": "stream",
     "text": [
      "/home/titan/anaconda3/lib/python3.5/site-packages/pandas/core/frame.py:2748: SettingWithCopyWarning: \n",
      "A value is trying to be set on a copy of a slice from a DataFrame\n",
      "\n",
      "See the caveats in the documentation: http://pandas.pydata.org/pandas-docs/stable/indexing.html#indexing-view-versus-copy\n",
      "  **kwargs)\n"
     ]
    },
    {
     "data": {
      "text/html": [
       "<div>\n",
       "<table border=\"1\" class=\"dataframe\">\n",
       "  <thead>\n",
       "    <tr style=\"text-align: right;\">\n",
       "      <th></th>\n",
       "      <th>State</th>\n",
       "      <th>Percent Obama Over Romney</th>\n",
       "      <th>Winner</th>\n",
       "      <th>PercentOfVote</th>\n",
       "      <th>Labor Participation</th>\n",
       "      <th>Unemployment2012</th>\n",
       "      <th>IncomePerCapita</th>\n",
       "      <th>avg_SAT_2012</th>\n",
       "      <th>Violent Crime rate</th>\n",
       "      <th>Property crime rate</th>\n",
       "    </tr>\n",
       "  </thead>\n",
       "  <tbody>\n",
       "    <tr>\n",
       "      <th>0</th>\n",
       "      <td>Alabama</td>\n",
       "      <td>-0.221868</td>\n",
       "      <td>Romney</td>\n",
       "      <td>0.605458</td>\n",
       "      <td>53.4</td>\n",
       "      <td>8.0</td>\n",
       "      <td>23606</td>\n",
       "      <td>1608</td>\n",
       "      <td>449.9</td>\n",
       "      <td>3502.2</td>\n",
       "    </tr>\n",
       "    <tr>\n",
       "      <th>1</th>\n",
       "      <td>Alaska</td>\n",
       "      <td>-0.139889</td>\n",
       "      <td>Romney</td>\n",
       "      <td>0.548016</td>\n",
       "      <td>63.4</td>\n",
       "      <td>7.1</td>\n",
       "      <td>33062</td>\n",
       "      <td>1495</td>\n",
       "      <td>603.2</td>\n",
       "      <td>2739.4</td>\n",
       "    </tr>\n",
       "    <tr>\n",
       "      <th>2</th>\n",
       "      <td>Arizona</td>\n",
       "      <td>-0.090648</td>\n",
       "      <td>Romney</td>\n",
       "      <td>0.536545</td>\n",
       "      <td>55.5</td>\n",
       "      <td>8.3</td>\n",
       "      <td>25715</td>\n",
       "      <td>1551</td>\n",
       "      <td>428.9</td>\n",
       "      <td>3539.2</td>\n",
       "    </tr>\n",
       "    <tr>\n",
       "      <th>3</th>\n",
       "      <td>Arkansas</td>\n",
       "      <td>-0.236879</td>\n",
       "      <td>Romney</td>\n",
       "      <td>0.605669</td>\n",
       "      <td>54.8</td>\n",
       "      <td>7.6</td>\n",
       "      <td>22883</td>\n",
       "      <td>1697</td>\n",
       "      <td>469.1</td>\n",
       "      <td>3660.1</td>\n",
       "    </tr>\n",
       "    <tr>\n",
       "      <th>4</th>\n",
       "      <td>California</td>\n",
       "      <td>0.231186</td>\n",
       "      <td>Obama</td>\n",
       "      <td>0.602390</td>\n",
       "      <td>56.6</td>\n",
       "      <td>10.4</td>\n",
       "      <td>30441</td>\n",
       "      <td>1505</td>\n",
       "      <td>423.1</td>\n",
       "      <td>2758.7</td>\n",
       "    </tr>\n",
       "  </tbody>\n",
       "</table>\n",
       "</div>"
      ],
      "text/plain": [
       "        State  Percent Obama Over Romney  Winner  PercentOfVote  \\\n",
       "0     Alabama                  -0.221868  Romney       0.605458   \n",
       "1      Alaska                  -0.139889  Romney       0.548016   \n",
       "2     Arizona                  -0.090648  Romney       0.536545   \n",
       "3    Arkansas                  -0.236879  Romney       0.605669   \n",
       "4  California                   0.231186   Obama       0.602390   \n",
       "\n",
       "   Labor Participation  Unemployment2012  IncomePerCapita  avg_SAT_2012  \\\n",
       "0                 53.4               8.0            23606          1608   \n",
       "1                 63.4               7.1            33062          1495   \n",
       "2                 55.5               8.3            25715          1551   \n",
       "3                 54.8               7.6            22883          1697   \n",
       "4                 56.6              10.4            30441          1505   \n",
       "\n",
       "   Violent Crime rate  Property crime rate  \n",
       "0               449.9               3502.2  \n",
       "1               603.2               2739.4  \n",
       "2               428.9               3539.2  \n",
       "3               469.1               3660.1  \n",
       "4               423.1               2758.7  "
      ]
     },
     "execution_count": 1,
     "metadata": {},
     "output_type": "execute_result"
    }
   ],
   "source": [
    "# Data management code, scroll to next cell for analysis\n",
    "# Data management code, scroll to next cell for analysis\n",
    "import pandas as pd\n",
    "from pandas import Series,DataFrame\n",
    "\n",
    "# BLS dataset for labor participation\n",
    "# http://www.bls.gov/lau/staadata.zip\n",
    "bls_file = pd.ExcelFile('staadata.xlsx')\n",
    "# Parse the first sheet of the excel file and set as DataFrame\n",
    "header = ['FIPS Code', 'State', 'Year', 'Civilian non-institutional population',\n",
    "           'Civilian labor force Total', 'CLF Percent of population', 'CLF Employment Total',\n",
    "           'CLF Employment Percent of population', 'CLF Unemployment Total',\n",
    "           'CLF Unemployment Rate'\n",
    "          ]\n",
    "bls = bls_file.parse('Sheet1', skiprows=7, names=header)\n",
    "bls12 = bls[bls.Year == 2012]\n",
    "bls12 = bls12[['State','CLF Employment Percent of population','CLF Unemployment Rate']]\n",
    "bls12['CLF Employment Percent of population'] = pd.to_numeric(bls12['CLF Employment Percent of population'])\n",
    "bls12['CLF Unemployment Rate'] = pd.to_numeric(bls12['CLF Unemployment Rate'])\n",
    "bls12.set_index('State')\n",
    "\n",
    "# 2012 Election data to determine if a state is \"red\" or \"blue\"\n",
    "# http://www.fec.gov/pubrec/fe2012/federalelections2012.shtml\n",
    "pres_file = pd.ExcelFile('2012pres.xls')\n",
    "pres = pres_file.parse('2012 Pres General Results')\n",
    "pres = pres.drop([1, 'FEC ID', 'STATE ABBREVIATION', 'GENERAL ELECTION DATE'], axis=1)\n",
    "pres.rename(columns={'STATE': 'State',\n",
    "                     'GENERAL %': 'PercentOfVote'}, inplace=True)\n",
    "Dem = pres[pres['LAST NAME'] == 'Obama'].set_index('State')\n",
    "Rep = pres[pres['LAST NAME'] == 'Romney'].set_index('State')\n",
    "Dem_Rep = pd.DataFrame(Dem['PercentOfVote'] - Rep['PercentOfVote'])\n",
    "Dem_Rep.rename(columns={'PercentOfVote': 'Percent Obama Over Romney'}, inplace=True)\n",
    "Dem_Rep.reset_index(level=0, inplace=True)\n",
    "\n",
    "winner = pres[pres['WINNER INDICATOR'] == 'W']\n",
    "winner.rename(columns={'LAST NAME': 'Winner'}, inplace=True)\n",
    "winner = winner[['State','Winner', 'PercentOfVote']]\n",
    "data = pd.merge(Dem_Rep, winner, left_on='State', right_on='State')\n",
    "data = data.drop_duplicates('State', keep='first')\n",
    "\n",
    "\n",
    "# Load income per capita as response variable\n",
    "# https://en.wikipedia.org/wiki/List_of_U.S._states_by_income\n",
    "income = pd.read_csv('per_capita_income.csv', low_memory=False)\n",
    "income.rename(columns={'Per capita\\nincome': 'IncomePerCapita'}, inplace=True)\n",
    "income = income[[1, 2]]\n",
    "income.set_index('State')\n",
    "income['IncomePerCapita'] = income['IncomePerCapita'].apply(\n",
    "    lambda x: x.replace('$', '').replace(',', ''))\n",
    "income['IncomePerCapita'] = pd.to_numeric(income['IncomePerCapita'])\n",
    "\n",
    "# Load 2012 SAT score average\n",
    "# http://www.ipsr.ku.edu/ksdata/ksah/education/\n",
    "sat_2012 = pd.read_csv('avg_SAT_2012.csv', low_memory=False)\n",
    "sat_2012 = sat_2012[['State', 'Combined']]\n",
    "sat_2012.rename(columns={'Combined': 'avg_SAT_2012'}, inplace=True)\n",
    "sat_2012['avg_SAT_2012'] = pd.to_numeric(sat_2012['avg_SAT_2012'])\n",
    "sat_2012.set_index('State')\n",
    "\n",
    "# Merge data sets\n",
    "data = pd.merge(data, bls12, left_on='State', right_on='State')\n",
    "data = pd.merge(data, income, left_on='State', right_on='State')\n",
    "data = pd.merge(data, sat_2012, left_on='State', right_on='State')\n",
    "\n",
    "data.rename(columns={'CLF Employment Percent of population': 'Labor Participation',\n",
    "                    'CLF Unemployment Rate': 'Unemployment2012'}, inplace=True)\n",
    "data['Percent Obama Over Romney'] = pd.to_numeric(data['Percent Obama Over Romney'])\n",
    "data['Labor Participation'] = pd.to_numeric(data['Labor Participation'])\n",
    "data['Unemployment2012'] = pd.to_numeric(data['Unemployment2012'])\n",
    "\n",
    "# 2012 crime data\n",
    "# http://www.ucrdatatool.gov/Search/Crime/State/RunCrimeOneYearofData.cfm\n",
    "crime = pd.read_csv('CrimeOneYearofData2012.csv', low_memory=False)\n",
    "crime = crime[['State', 'Violent Crime rate', 'Property crime rate']]\n",
    "crime['Violent Crime rate'] = pd.to_numeric(crime['Violent Crime rate'])\n",
    "crime['Property crime rate'] = pd.to_numeric(crime['Property crime rate'])\n",
    "data = pd.merge(data, crime, left_on='State', right_on='State')\n",
    "\n",
    "data_clean = data.copy()\n",
    "data_clean.head()"
   ]
  },
  {
   "cell_type": "code",
   "execution_count": 2,
   "metadata": {
    "collapsed": false
   },
   "outputs": [
    {
     "name": "stdout",
     "output_type": "stream",
     "text": [
      "Training set: (30, 6). Testing set: (21, 6)\n"
     ]
    }
   ],
   "source": [
    "explanatory_vars = data_clean[['Labor Participation','Unemployment2012',\n",
    "                               'IncomePerCapita','avg_SAT_2012',\n",
    "                               'Violent Crime rate','Property crime rate']]\n",
    "targets = data_clean.Winner\n",
    "\n",
    "from sklearn.cross_validation import train_test_split\n",
    "expla_train, expla_test, tar_train, tar_test = train_test_split(explanatory_vars,\n",
    "                                                                targets, test_size=.4)\n",
    "print('Training set: {0}. Testing set: {1}'.format(expla_train.shape, expla_test.shape) )"
   ]
  },
  {
   "cell_type": "code",
   "execution_count": 3,
   "metadata": {
    "collapsed": false
   },
   "outputs": [
    {
     "name": "stdout",
     "output_type": "stream",
     "text": [
      "[[ 5  2]\n",
      " [ 3 11]]\n"
     ]
    },
    {
     "data": {
      "text/plain": [
       "0.76190476190476186"
      ]
     },
     "execution_count": 3,
     "metadata": {},
     "output_type": "execute_result"
    }
   ],
   "source": [
    "#Build model on training data\n",
    "from sklearn.ensemble import RandomForestClassifier\n",
    "\n",
    "classifier=RandomForestClassifier(n_estimators=25)\n",
    "classifier=classifier.fit(expla_train,tar_train)\n",
    "\n",
    "predictions=classifier.predict(expla_test)\n",
    "\n",
    "import sklearn.metrics\n",
    "print(sklearn.metrics.confusion_matrix(tar_test,predictions))\n",
    "sklearn.metrics.accuracy_score(tar_test, predictions)"
   ]
  },
  {
   "cell_type": "code",
   "execution_count": 4,
   "metadata": {
    "collapsed": false
   },
   "outputs": [
    {
     "name": "stdout",
     "output_type": "stream",
     "text": [
      "[ 0.07652559  0.09407533  0.30495741  0.18910925  0.08792912  0.24740329]\n"
     ]
    }
   ],
   "source": [
    "# fit an Extra Trees model to the data\n",
    "from sklearn.ensemble import ExtraTreesClassifier\n",
    "\n",
    "model = ExtraTreesClassifier()\n",
    "model.fit(expla_train, tar_train)\n",
    "# display the relative importance of each attribute\n",
    "print(model.feature_importances_)"
   ]
  },
  {
   "cell_type": "code",
   "execution_count": 5,
   "metadata": {
    "collapsed": false
   },
   "outputs": [
    {
     "data": {
      "text/plain": [
       "<matplotlib.text.Text at 0x7f4dc48e43c8>"
      ]
     },
     "execution_count": 5,
     "metadata": {},
     "output_type": "execute_result"
    },
    {
     "data": {
      "image/png": "[encoded data removed]",
      "text/plain": [
       "<matplotlib.figure.Figure at 0x7f4dc9293390>"
      ]
     },
     "metadata": {},
     "output_type": "display_data"
    }
   ],
   "source": [
    "\"\"\"\n",
    "Running a different number of trees and see the effect\n",
    " of that on the accuracy of the prediction\n",
    "\"\"\"\n",
    "import numpy as np\n",
    "\n",
    "trees=range(25)\n",
    "accuracy=np.zeros(25)\n",
    "\n",
    "for idx in range(len(trees)):\n",
    "   classifier = RandomForestClassifier(n_estimators=idx + 1)\n",
    "   classifier = classifier.fit(expla_train,tar_train)\n",
    "   predictions = classifier.predict(expla_test)\n",
    "   accuracy[idx]=sklearn.metrics.accuracy_score(tar_test, predictions)\n",
    "   \n",
    "%matplotlib inline\n",
    "import matplotlib.pylab as plt\n",
    "import seaborn as sb\n",
    "plt.cla()\n",
    "plt.plot(trees, accuracy)\n",
    "plt.xlabel('number_trees')\n",
    "plt.ylabel('accuracy_score')"
   ]
  },
  {
   "cell_type": "markdown",
   "metadata": {},
   "source": [
    "Graph shows highest accuracy with 9 trees, but it's decent at 2."
   ]
  }
 ],
 "metadata": {
  "kernelspec": {
   "display_name": "Python 3",
   "language": "python",
   "name": "python3"
  },
  "language_info": {
   "codemirror_mode": {
    "name": "ipython",
    "version": 3
   },
   "file_extension": ".py",
   "mimetype": "text/x-python",
   "name": "python",
   "nbconvert_exporter": "python",
   "pygments_lexer": "ipython3",
   "version": "3.5.1"
  }
 },
 "nbformat": 4,
 "nbformat_minor": 0
}
