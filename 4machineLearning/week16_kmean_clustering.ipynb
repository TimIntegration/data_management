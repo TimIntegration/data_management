{
 "cells": [
  {
   "cell_type": "code",
   "execution_count": 1,
   "metadata": {
    "collapsed": false
   },
   "outputs": [
    {
     "name": "stderr",
     "output_type": "stream",
     "text": [
      "/home/titan/anaconda3/lib/python3.5/site-packages/pandas/core/frame.py:2748: SettingWithCopyWarning: \n",
      "A value is trying to be set on a copy of a slice from a DataFrame\n",
      "\n",
      "See the caveats in the documentation: http://pandas.pydata.org/pandas-docs/stable/indexing.html#indexing-view-versus-copy\n",
      "  **kwargs)\n"
     ]
    },
    {
     "data": {
      "text/html": [
       "<div>\n",
       "<table border=\"1\" class=\"dataframe\">\n",
       "  <thead>\n",
       "    <tr style=\"text-align: right;\">\n",
       "      <th></th>\n",
       "      <th>State</th>\n",
       "      <th>Percent Obama Over Romney</th>\n",
       "      <th>Winner</th>\n",
       "      <th>PercentOfVote</th>\n",
       "      <th>Labor Participation</th>\n",
       "      <th>Unemployment2012</th>\n",
       "      <th>IncomePerCapita</th>\n",
       "      <th>avg_SAT_2012</th>\n",
       "      <th>Violent Crime rate</th>\n",
       "      <th>Property crime rate</th>\n",
       "    </tr>\n",
       "  </thead>\n",
       "  <tbody>\n",
       "    <tr>\n",
       "      <th>0</th>\n",
       "      <td>Alabama</td>\n",
       "      <td>-0.221868</td>\n",
       "      <td>Romney</td>\n",
       "      <td>0.605458</td>\n",
       "      <td>53.4</td>\n",
       "      <td>8.0</td>\n",
       "      <td>23606</td>\n",
       "      <td>1608</td>\n",
       "      <td>449.9</td>\n",
       "      <td>3502.2</td>\n",
       "    </tr>\n",
       "    <tr>\n",
       "      <th>1</th>\n",
       "      <td>Alaska</td>\n",
       "      <td>-0.139889</td>\n",
       "      <td>Romney</td>\n",
       "      <td>0.548016</td>\n",
       "      <td>63.4</td>\n",
       "      <td>7.1</td>\n",
       "      <td>33062</td>\n",
       "      <td>1495</td>\n",
       "      <td>603.2</td>\n",
       "      <td>2739.4</td>\n",
       "    </tr>\n",
       "    <tr>\n",
       "      <th>2</th>\n",
       "      <td>Arizona</td>\n",
       "      <td>-0.090648</td>\n",
       "      <td>Romney</td>\n",
       "      <td>0.536545</td>\n",
       "      <td>55.5</td>\n",
       "      <td>8.3</td>\n",
       "      <td>25715</td>\n",
       "      <td>1551</td>\n",
       "      <td>428.9</td>\n",
       "      <td>3539.2</td>\n",
       "    </tr>\n",
       "    <tr>\n",
       "      <th>3</th>\n",
       "      <td>Arkansas</td>\n",
       "      <td>-0.236879</td>\n",
       "      <td>Romney</td>\n",
       "      <td>0.605669</td>\n",
       "      <td>54.8</td>\n",
       "      <td>7.6</td>\n",
       "      <td>22883</td>\n",
       "      <td>1697</td>\n",
       "      <td>469.1</td>\n",
       "      <td>3660.1</td>\n",
       "    </tr>\n",
       "    <tr>\n",
       "      <th>4</th>\n",
       "      <td>California</td>\n",
       "      <td>0.231186</td>\n",
       "      <td>Obama</td>\n",
       "      <td>0.602390</td>\n",
       "      <td>56.6</td>\n",
       "      <td>10.4</td>\n",
       "      <td>30441</td>\n",
       "      <td>1505</td>\n",
       "      <td>423.1</td>\n",
       "      <td>2758.7</td>\n",
       "    </tr>\n",
       "  </tbody>\n",
       "</table>\n",
       "</div>"
      ],
      "text/plain": [
       "        State  Percent Obama Over Romney  Winner  PercentOfVote  \\\n",
       "0     Alabama                  -0.221868  Romney       0.605458   \n",
       "1      Alaska                  -0.139889  Romney       0.548016   \n",
       "2     Arizona                  -0.090648  Romney       0.536545   \n",
       "3    Arkansas                  -0.236879  Romney       0.605669   \n",
       "4  California                   0.231186   Obama       0.602390   \n",
       "\n",
       "   Labor Participation  Unemployment2012  IncomePerCapita  avg_SAT_2012  \\\n",
       "0                 53.4               8.0            23606          1608   \n",
       "1                 63.4               7.1            33062          1495   \n",
       "2                 55.5               8.3            25715          1551   \n",
       "3                 54.8               7.6            22883          1697   \n",
       "4                 56.6              10.4            30441          1505   \n",
       "\n",
       "   Violent Crime rate  Property crime rate  \n",
       "0               449.9               3502.2  \n",
       "1               603.2               2739.4  \n",
       "2               428.9               3539.2  \n",
       "3               469.1               3660.1  \n",
       "4               423.1               2758.7  "
      ]
     },
     "execution_count": 1,
     "metadata": {},
     "output_type": "execute_result"
    }
   ],
   "source": [
    "# Data management code, scroll to next cell for analysis\n",
    "import pandas as pd\n",
    "from pandas import Series,DataFrame\n",
    "\n",
    "# BLS dataset for labor participation\n",
    "# http://www.bls.gov/lau/staadata.zip\n",
    "bls_file = pd.ExcelFile('staadata.xlsx')\n",
    "# Parse the first sheet of the excel file and set as DataFrame\n",
    "header = ['FIPS Code', 'State', 'Year', 'Civilian non-institutional population',\n",
    "           'Civilian labor force Total', 'CLF Percent of population', 'CLF Employment Total',\n",
    "           'CLF Employment Percent of population', 'CLF Unemployment Total',\n",
    "           'CLF Unemployment Rate'\n",
    "          ]\n",
    "bls = bls_file.parse('Sheet1', skiprows=7, names=header)\n",
    "bls12 = bls[bls.Year == 2012]\n",
    "bls12 = bls12[['State','CLF Employment Percent of population','CLF Unemployment Rate']]\n",
    "bls12['CLF Employment Percent of population'] = pd.to_numeric(bls12['CLF Employment Percent of population'])\n",
    "bls12['CLF Unemployment Rate'] = pd.to_numeric(bls12['CLF Unemployment Rate'])\n",
    "bls12.set_index('State')\n",
    "\n",
    "# 2012 Election data to determine if a state is \"red\" or \"blue\"\n",
    "# http://www.fec.gov/pubrec/fe2012/federalelections2012.shtml\n",
    "pres_file = pd.ExcelFile('2012pres.xls')\n",
    "pres = pres_file.parse('2012 Pres General Results')\n",
    "pres = pres.drop([1, 'FEC ID', 'STATE ABBREVIATION', 'GENERAL ELECTION DATE'], axis=1)\n",
    "pres.rename(columns={'STATE': 'State',\n",
    "                     'GENERAL %': 'PercentOfVote'}, inplace=True)\n",
    "Dem = pres[pres['LAST NAME'] == 'Obama'].set_index('State')\n",
    "Rep = pres[pres['LAST NAME'] == 'Romney'].set_index('State')\n",
    "Dem_Rep = pd.DataFrame(Dem['PercentOfVote'] - Rep['PercentOfVote'])\n",
    "Dem_Rep.rename(columns={'PercentOfVote': 'Percent Obama Over Romney'}, inplace=True)\n",
    "Dem_Rep.reset_index(level=0, inplace=True)\n",
    "\n",
    "winner = pres[pres['WINNER INDICATOR'] == 'W']\n",
    "winner.rename(columns={'LAST NAME': 'Winner'}, inplace=True)\n",
    "winner = winner[['State','Winner', 'PercentOfVote']]\n",
    "data = pd.merge(Dem_Rep, winner, left_on='State', right_on='State')\n",
    "data = data.drop_duplicates('State', keep='first')\n",
    "\n",
    "\n",
    "# Load income per capita as response variable\n",
    "# https://en.wikipedia.org/wiki/List_of_U.S._states_by_income\n",
    "income = pd.read_csv('per_capita_income.csv', low_memory=False)\n",
    "income.rename(columns={'Per capita\\nincome': 'IncomePerCapita'}, inplace=True)\n",
    "income = income[[1, 2]]\n",
    "income.set_index('State')\n",
    "income['IncomePerCapita'] = income['IncomePerCapita'].apply(\n",
    "    lambda x: x.replace('$', '').replace(',', ''))\n",
    "income['IncomePerCapita'] = pd.to_numeric(income['IncomePerCapita'])\n",
    "\n",
    "# Load 2012 SAT score average\n",
    "# http://www.ipsr.ku.edu/ksdata/ksah/education/\n",
    "sat_2012 = pd.read_csv('avg_SAT_2012.csv', low_memory=False)\n",
    "sat_2012 = sat_2012[['State', 'Combined']]\n",
    "sat_2012.rename(columns={'Combined': 'avg_SAT_2012'}, inplace=True)\n",
    "sat_2012['avg_SAT_2012'] = pd.to_numeric(sat_2012['avg_SAT_2012'])\n",
    "sat_2012.set_index('State')\n",
    "\n",
    "# Merge data sets\n",
    "data = pd.merge(data, bls12, left_on='State', right_on='State')\n",
    "data = pd.merge(data, income, left_on='State', right_on='State')\n",
    "data = pd.merge(data, sat_2012, left_on='State', right_on='State')\n",
    "\n",
    "data.rename(columns={'CLF Employment Percent of population': 'Labor Participation',\n",
    "                    'CLF Unemployment Rate': 'Unemployment2012'}, inplace=True)\n",
    "data['Percent Obama Over Romney'] = pd.to_numeric(data['Percent Obama Over Romney'])\n",
    "data['Labor Participation'] = pd.to_numeric(data['Labor Participation'])\n",
    "data['Unemployment2012'] = pd.to_numeric(data['Unemployment2012'])\n",
    "\n",
    "# 2012 crime data\n",
    "# http://www.ucrdatatool.gov/Search/Crime/State/RunCrimeOneYearofData.cfm\n",
    "crime = pd.read_csv('CrimeOneYearofData2012.csv', low_memory=False)\n",
    "crime = crime[['State', 'Violent Crime rate', 'Property crime rate']]\n",
    "crime['Violent Crime rate'] = pd.to_numeric(crime['Violent Crime rate'])\n",
    "crime['Property crime rate'] = pd.to_numeric(crime['Property crime rate'])\n",
    "data = pd.merge(data, crime, left_on='State', right_on='State')\n",
    "\n",
    "data_clean = data.copy()\n",
    "data_clean.head()"
   ]
  },
  {
   "cell_type": "code",
   "execution_count": 2,
   "metadata": {
    "collapsed": false
   },
   "outputs": [
    {
     "name": "stdout",
     "output_type": "stream",
     "text": [
      "Training set: (38, 6). Testing set: (13, 6)\n"
     ]
    }
   ],
   "source": [
    "predictors = data_clean[['Labor Participation','Unemployment2012',\n",
    "                               'IncomePerCapita','avg_SAT_2012',\n",
    "                               'Violent Crime rate','Property crime rate']]\n",
    "from sklearn import preprocessing\n",
    "explanatory_vars = DataFrame()\n",
    "explanatory_vars['Labor Participation']=preprocessing.scale(predictors['Labor Participation'].astype('float64'))\n",
    "explanatory_vars['Unemployment2012']=preprocessing.scale(predictors['Unemployment2012'].astype('float64'))\n",
    "explanatory_vars['IncomePerCapita']=preprocessing.scale(predictors['IncomePerCapita'].astype('float64'))\n",
    "explanatory_vars['avg_SAT_2012']=preprocessing.scale(predictors['avg_SAT_2012'].astype('float64'))\n",
    "explanatory_vars['Violent Crime rate']=preprocessing.scale(predictors['Violent Crime rate'].astype('float64'))\n",
    "explanatory_vars['Property crime rate']=preprocessing.scale(predictors['Property crime rate'].astype('float64'))\n",
    "\n",
    "from sklearn.cross_validation import train_test_split\n",
    "# split data into train and test sets\n",
    "expla_train, expla_test = train_test_split(explanatory_vars, test_size=.25, random_state=123)\n",
    "\n",
    "print('Training set: {0}. Testing set: {1}'.format(expla_train.shape, expla_test.shape) )"
   ]
  },
  {
   "cell_type": "code",
   "execution_count": 3,
   "metadata": {
    "collapsed": false
   },
   "outputs": [
    {
     "data": {
      "image/png": "[encoded data removed]",
      "text/plain": [
       "<matplotlib.figure.Figure at 0x7fa9ea17e198>"
      ]
     },
     "metadata": {},
     "output_type": "display_data"
    }
   ],
   "source": [
    "# k-means cluster analysis for 1-9 clusters\n",
    "import numpy as np\n",
    "from sklearn.cluster import KMeans\n",
    "from scipy.spatial.distance import cdist\n",
    "clusters=range(1,10)\n",
    "meandist=[]\n",
    "\n",
    "for k in clusters:\n",
    "    model=KMeans(n_clusters=k)\n",
    "    model.fit(expla_train)\n",
    "    clusassign=model.predict(expla_train)\n",
    "    meandist.append(sum(np.min(cdist(expla_train, model.cluster_centers_, 'euclidean'), axis=1)) \n",
    "    / expla_train.shape[0])\n",
    "\n",
    "\"\"\"\n",
    "Plot average distance from observations from the cluster centroid\n",
    "to use the Elbow Method to identify number of clusters to choose\n",
    "\"\"\"\n",
    "import matplotlib.pylab as plt\n",
    "%matplotlib inline\n",
    "import seaborn as sb\n",
    "\n",
    "plt.plot(clusters, meandist)\n",
    "plt.xlabel('Number of clusters')\n",
    "plt.ylabel('Average distance')\n",
    "plt.title('Selecting k with the Elbow Method')\n",
    "plt.show()"
   ]
  },
  {
   "cell_type": "code",
   "execution_count": 4,
   "metadata": {
    "collapsed": false
   },
   "outputs": [
    {
     "data": {
      "image/png": "[encoded data removed]",
      "text/plain": [
       "<matplotlib.figure.Figure at 0x7faa1c0ed7b8>"
      ]
     },
     "metadata": {},
     "output_type": "display_data"
    }
   ],
   "source": [
    "# Interpret 2 cluster solution\n",
    "model3=KMeans(n_clusters=2)\n",
    "model3.fit(expla_train)\n",
    "clusassign=model3.predict(expla_train)\n",
    "\n",
    "# plot clusters, using top two variables\n",
    "from sklearn.decomposition import PCA\n",
    "pca_2 = PCA(2)\n",
    "plot_columns = pca_2.fit_transform(expla_train)\n",
    "plt.scatter(x=plot_columns[:,0], y=plot_columns[:,1], c=model3.labels_, cmap='jet')\n",
    "plt.xlabel('Canonical variable 1')\n",
    "plt.ylabel('Canonical variable 2')\n",
    "plt.title('Scatterplot of Canonical Variables for 2 Clusters')\n",
    "plt.show()"
   ]
  },
  {
   "cell_type": "code",
   "execution_count": 5,
   "metadata": {
    "collapsed": false
   },
   "outputs": [
    {
     "data": {
      "text/plain": [
       "0    23\n",
       "1    15\n",
       "Name: cluster, dtype: int64"
      ]
     },
     "execution_count": 5,
     "metadata": {},
     "output_type": "execute_result"
    }
   ],
   "source": [
    "\"\"\"\n",
    "BEGIN multiple steps to merge cluster assignment with clustering variables to examine\n",
    "cluster variable means by cluster\n",
    "\"\"\"\n",
    "# create a unique identifier variable from the index for the \n",
    "# cluster training data to merge with the cluster assignment variable\n",
    "expla_train.reset_index(level=0, inplace=True)\n",
    "# create a list that has the new index variable\n",
    "cluslist=list(expla_train['index'])\n",
    "# create a list of cluster assignments\n",
    "labels=list(model3.labels_)\n",
    "# combine index variable list with cluster assignment list into a dictionary\n",
    "newlist=dict(zip(cluslist, labels))\n",
    "newlist\n",
    "# convert newlist dictionary to a dataframe\n",
    "newclus=DataFrame.from_dict(newlist, orient='index')\n",
    "newclus\n",
    "# rename the cluster assignment column\n",
    "newclus.columns = ['cluster']\n",
    "\n",
    "# now do the same for the cluster assignment variable\n",
    "# create a unique identifier variable from the index for the \n",
    "# cluster assignment dataframe \n",
    "# to merge with cluster training data\n",
    "newclus.reset_index(level=0, inplace=True)\n",
    "# merge the cluster assignment dataframe with the cluster training variable dataframe\n",
    "# by the index variable\n",
    "merged_train=pd.merge(expla_train, newclus, on='index')\n",
    "merged_train.head(n=100)\n",
    "# cluster frequencies\n",
    "merged_train.cluster.value_counts()"
   ]
  },
  {
   "cell_type": "code",
   "execution_count": 6,
   "metadata": {
    "collapsed": false
   },
   "outputs": [
    {
     "name": "stdout",
     "output_type": "stream",
     "text": [
      "Clustering variable means by cluster\n"
     ]
    },
    {
     "data": {
      "text/html": [
       "<div>\n",
       "<table border=\"1\" class=\"dataframe\">\n",
       "  <thead>\n",
       "    <tr style=\"text-align: right;\">\n",
       "      <th></th>\n",
       "      <th>index</th>\n",
       "      <th>Labor Participation</th>\n",
       "      <th>Unemployment2012</th>\n",
       "      <th>IncomePerCapita</th>\n",
       "      <th>avg_SAT_2012</th>\n",
       "      <th>Violent Crime rate</th>\n",
       "      <th>Property crime rate</th>\n",
       "    </tr>\n",
       "    <tr>\n",
       "      <th>cluster</th>\n",
       "      <th></th>\n",
       "      <th></th>\n",
       "      <th></th>\n",
       "      <th></th>\n",
       "      <th></th>\n",
       "      <th></th>\n",
       "      <th></th>\n",
       "    </tr>\n",
       "  </thead>\n",
       "  <tbody>\n",
       "    <tr>\n",
       "      <th>0</th>\n",
       "      <td>21.826087</td>\n",
       "      <td>-0.552969</td>\n",
       "      <td>0.608653</td>\n",
       "      <td>-0.020016</td>\n",
       "      <td>-0.502480</td>\n",
       "      <td>0.144860</td>\n",
       "      <td>-0.005353</td>\n",
       "    </tr>\n",
       "    <tr>\n",
       "      <th>1</th>\n",
       "      <td>32.133333</td>\n",
       "      <td>1.072885</td>\n",
       "      <td>-1.096743</td>\n",
       "      <td>0.003708</td>\n",
       "      <td>0.927394</td>\n",
       "      <td>-0.517102</td>\n",
       "      <td>-0.413081</td>\n",
       "    </tr>\n",
       "  </tbody>\n",
       "</table>\n",
       "</div>"
      ],
      "text/plain": [
       "             index  Labor Participation  Unemployment2012  IncomePerCapita  \\\n",
       "cluster                                                                      \n",
       "0        21.826087            -0.552969          0.608653        -0.020016   \n",
       "1        32.133333             1.072885         -1.096743         0.003708   \n",
       "\n",
       "         avg_SAT_2012  Violent Crime rate  Property crime rate  \n",
       "cluster                                                         \n",
       "0           -0.502480            0.144860            -0.005353  \n",
       "1            0.927394           -0.517102            -0.413081  "
      ]
     },
     "execution_count": 6,
     "metadata": {},
     "output_type": "execute_result"
    }
   ],
   "source": [
    "\"\"\"\n",
    "END multiple steps to merge cluster assignment with clustering variables to examine\n",
    "cluster variable means by cluster\n",
    "\"\"\"\n",
    "\n",
    "# FINALLY calculate clustering variable means by cluster\n",
    "clustergrp = merged_train.groupby('cluster').mean()\n",
    "print(\"Clustering variable means by cluster\")\n",
    "clustergrp"
   ]
  },
  {
   "cell_type": "code",
   "execution_count": 7,
   "metadata": {
    "collapsed": false
   },
   "outputs": [
    {
     "name": "stdout",
     "output_type": "stream",
     "text": [
      "                            OLS Regression Results                            \n",
      "==============================================================================\n",
      "Dep. Variable:                 Winner   R-squared:                       0.042\n",
      "Model:                            OLS   Adj. R-squared:                  0.015\n",
      "Method:                 Least Squares   F-statistic:                     1.568\n",
      "Date:                Wed, 24 Aug 2016   Prob (F-statistic):              0.219\n",
      "Time:                        18:18:48   Log-Likelihood:                -26.717\n",
      "No. Observations:                  38   AIC:                             57.43\n",
      "Df Residuals:                      36   BIC:                             60.71\n",
      "Df Model:                           1                                         \n",
      "Covariance Type:            nonrobust                                         \n",
      "===================================================================================\n",
      "                      coef    std err          t      P>|t|      [95.0% Conf. Int.]\n",
      "-----------------------------------------------------------------------------------\n",
      "Intercept           0.3913      0.105      3.737      0.001         0.179     0.604\n",
      "C(cluster)[T.1]     0.2087      0.167      1.252      0.219        -0.129     0.547\n",
      "==============================================================================\n",
      "Omnibus:                      137.921   Durbin-Watson:                   3.064\n",
      "Prob(Omnibus):                  0.000   Jarque-Bera (JB):                5.283\n",
      "Skew:                           0.106   Prob(JB):                       0.0713\n",
      "Kurtosis:                       1.186   Cond. No.                         2.44\n",
      "==============================================================================\n",
      "\n",
      "Warnings:\n",
      "[1] Standard Errors assume that the covariance matrix of the errors is correctly specified.\n"
     ]
    }
   ],
   "source": [
    "# validate clusters in training data by examining cluster differences in %Obama>Romney using ANOVA\n",
    "\n",
    "percent_obama = data_clean['Winner'].map({'Obama': 0, 'Romney': 1})\n",
    "# split poll data into train and test sets\n",
    "poll_train, poll_test = train_test_split(percent_obama, test_size=.25, random_state=123)\n",
    "poll_train1=pd.DataFrame(poll_train)\n",
    "poll_train1.reset_index(level=0, inplace=True)\n",
    "merged_train_all=pd.merge(poll_train1, merged_train, on='index')\n",
    "sub1 = merged_train_all[['Winner', 'cluster']].dropna()\n",
    "\n",
    "import statsmodels.formula.api as smf\n",
    "import statsmodels.stats.multicomp as multi \n",
    "\n",
    "poll_mod = smf.ols(formula='Winner ~ C(cluster)', data=sub1).fit()\n",
    "print (poll_mod.summary())"
   ]
  },
  {
   "cell_type": "code",
   "execution_count": 8,
   "metadata": {
    "collapsed": false
   },
   "outputs": [
    {
     "name": "stdout",
     "output_type": "stream",
     "text": [
      "means for Winner by cluster\n",
      "           Winner\n",
      "cluster          \n",
      "0        0.391304\n",
      "1        0.600000\n",
      "standard deviations for Winner by cluster\n",
      "           Winner\n",
      "cluster          \n",
      "0        0.499011\n",
      "1        0.507093\n"
     ]
    }
   ],
   "source": [
    "print ('means for Winner by cluster')\n",
    "m1= sub1.groupby('cluster').mean()\n",
    "print (m1)\n",
    "\n",
    "print ('standard deviations for Winner by cluster')\n",
    "m2= sub1.groupby('cluster').std()\n",
    "print (m2)"
   ]
  },
  {
   "cell_type": "markdown",
   "metadata": {},
   "source": [
    "**p-value failed, also only two categories, no need to perform post hoc test\n",
    "code below is for reference only**\n",
    "\n",
    ">mc1 = multi.MultiComparison(sub1['Winner'], sub1['cluster'])\n",
    ">res1 = mc1.tukeyhsd()\n",
    ">print(res1.summary())"
   ]
  }
 ],
 "metadata": {
  "kernelspec": {
   "display_name": "Python 3",
   "language": "python",
   "name": "python3"
  },
  "language_info": {
   "codemirror_mode": {
    "name": "ipython",
    "version": 3
   },
   "file_extension": ".py",
   "mimetype": "text/x-python",
   "name": "python",
   "nbconvert_exporter": "python",
   "pygments_lexer": "ipython3",
   "version": "3.5.1"
  }
 },
 "nbformat": 4,
 "nbformat_minor": 0
}
