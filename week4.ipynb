{
 "cells": [
  {
   "cell_type": "code",
   "execution_count": 18,
   "metadata": {
    "collapsed": false
   },
   "outputs": [
    {
     "data": {
      "text/plain": [
       "count    52.000000\n",
       "mean      0.434615\n",
       "std       6.803283\n",
       "min     -21.100000\n",
       "25%      -1.000000\n",
       "50%       0.300000\n",
       "75%       0.750000\n",
       "max      35.000000\n",
       "Name: fluoride_change_06_10, dtype: float64"
      ]
     },
     "execution_count": 18,
     "metadata": {},
     "output_type": "execute_result"
    }
   ],
   "source": [
    "import pandas as pd\n",
    "from pandas import Series,DataFrame\n",
    "\n",
    "\"\"\"\n",
    "IMPORTANT NOTE: If parsing Excel files fails, pip install xlrd AND openpyxl\n",
    "\"\"\"\n",
    "\n",
    "# Open the excel file as an object\n",
    "cdc_file = pd.ExcelFile('cdc.xlsx')\n",
    "# Parse the first sheet of the excel file and set as DataFrame\n",
    "# get 2006 to calculate change\n",
    "fluo06 = cdc_file.parse('2006')\n",
    "fluo06.set_index('State')\n",
    "fluo06['%'] = pd.to_numeric(fluo06['%'])  # convert_objects is deprecated\n",
    "fluo06 = fluo06.rename(columns={'%': 'Rate receiving fluoridated water'})\n",
    "\n",
    "# get 2010 to calculate change\n",
    "fluo10 = cdc_file.parse('2010')\n",
    "fluo10.set_index('State')\n",
    "fluo10['%'] = pd.to_numeric(fluo10['%'])  # convert_objects is deprecated\n",
    "fluo10 = fluo10.rename(columns={'%': 'Rate receiving fluoridated water'})\n",
    "\n",
    "cdc_fluor_change_06_10 = pd.merge(fluo06, fluo10, on='State', suffixes=['_2006', '_2010'])\n",
    "cdc_fluor_change_06_10['fluoride_change_06_10'] = cdc_fluor_change_06_10['Rate receiving fluoridated water_2010'] \\\n",
    "        - cdc_fluor_change_06_10['Rate receiving fluoridated water_2006']\n",
    "cdc_fluor_change_06_10['fluoride_change_06_10'].describe()"
   ]
  },
  {
   "cell_type": "code",
   "execution_count": 17,
   "metadata": {
    "collapsed": false
   },
   "outputs": [
    {
     "data": {
      "text/plain": [
       "count    53.000000\n",
       "mean      0.301887\n",
       "std       1.058753\n",
       "min      -2.100000\n",
       "25%      -0.300000\n",
       "50%       0.300000\n",
       "75%       1.100000\n",
       "max       2.300000\n",
       "Name: change_in_labor_participation_14_10, dtype: float64"
      ]
     },
     "execution_count": 17,
     "metadata": {},
     "output_type": "execute_result"
    }
   ],
   "source": [
    "# BLS dataset for labor participation\n",
    "bls_file = pd.ExcelFile('staadata.xlsx')\n",
    "# Parse the first sheet of the excel file and set as DataFrame\n",
    "header = ['FIPS Code', 'State and area', 'Year', 'Civilian non-institutional population',\n",
    "           'Civilian labor force Total', 'CLF Percent of population', 'CLF Employment Total',\n",
    "           'CLF Employment Percent of population', 'CLF Unemployment Total',\n",
    "           'CLF Unemployment Rate'\n",
    "          ]\n",
    "bls = bls_file.parse('Sheet1', skiprows=7, names=header)\n",
    "bls14 = bls[bls.Year == 2014]\n",
    "bls14 = bls14[['State and area','CLF Employment Percent of population','CLF Unemployment Rate']]\n",
    "bls14['CLF Employment Percent of population'] = pd.to_numeric(bls14['CLF Employment Percent of population'])\n",
    "bls14['CLF Unemployment Rate'] = pd.to_numeric(bls14['CLF Unemployment Rate'])\n",
    "bls14.set_index('State and area')\n",
    "\n",
    "bls10 = bls[bls.Year == 2010]\n",
    "bls10 = bls10[['State and area','CLF Employment Percent of population','CLF Unemployment Rate']]\n",
    "bls10['CLF Employment Percent of population'] = pd.to_numeric(bls10['CLF Employment Percent of population'])\n",
    "bls10['CLF Unemployment Rate'] = pd.to_numeric(bls10['CLF Unemployment Rate'])\n",
    "bls10.set_index('State and area')\n",
    "\n",
    "bls_labor_change_14_10 = pd.merge(bls14, bls10, on='State and area', suffixes=['_2014', '_2010'])\n",
    "bls_labor_change_14_10['change_in_labor_participation_14_10'] = \\\n",
    "    bls_labor_change_14_10['CLF Employment Percent of population_2014'] \\\n",
    "    - bls_labor_change_14_10['CLF Employment Percent of population_2010']\n",
    "bls_labor_change_14_10['change_in_labor_participation_14_10'].describe()"
   ]
  },
  {
   "cell_type": "code",
   "execution_count": 25,
   "metadata": {
    "collapsed": false
   },
   "outputs": [],
   "source": [
    "# view only rows in the 1st and 4th quartile of water fluoridation changes\n",
    "first_quartile_fluor = cdc_fluor_change_06_10[cdc_fluor_change_06_10['fluoride_change_06_10'] <= -1.0]\n",
    "last_quartile_fluor = cdc_fluor_change_06_10[cdc_fluor_change_06_10['fluoride_change_06_10'] >= .75]\n",
    "first_and_last_qt ="
   ]
  },
  {
   "cell_type": "code",
   "execution_count": 14,
   "metadata": {
    "collapsed": false
   },
   "outputs": [
    {
     "data": {
      "text/plain": [
       "count    52.000000\n",
       "mean      0.434615\n",
       "std       6.803283\n",
       "min     -21.100000\n",
       "25%      -1.000000\n",
       "50%       0.300000\n",
       "75%       0.750000\n",
       "max      35.000000\n",
       "Name: fluoride_change_06_10, dtype: float64"
      ]
     },
     "execution_count": 14,
     "metadata": {},
     "output_type": "execute_result"
    }
   ],
   "source": [
    ""
   ]
  },
  {
   "cell_type": "code",
   "execution_count": null,
   "metadata": {
    "collapsed": true
   },
   "outputs": [],
   "source": [
    ""
   ]
  }
 ],
 "metadata": {
  "kernelspec": {
   "display_name": "Python 3",
   "language": "python",
   "name": "python3"
  },
  "language_info": {
   "codemirror_mode": {
    "name": "ipython",
    "version": 3.0
   },
   "file_extension": ".py",
   "mimetype": "text/x-python",
   "name": "python",
   "nbconvert_exporter": "python",
   "pygments_lexer": "ipython3",
   "version": "3.5.1"
  }
 },
 "nbformat": 4,
 "nbformat_minor": 0
}